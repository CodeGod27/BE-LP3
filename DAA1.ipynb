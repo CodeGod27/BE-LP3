{
 "cells": [
  {
   "cell_type": "code",
   "execution_count": 13,
   "id": "28464c43",
   "metadata": {},
   "outputs": [
    {
     "name": "stdout",
     "output_type": "stream",
     "text": [
      "Recursive Fibonacci:\n",
      "0 1 1 2 3 5 8 13 21 34 Non-recursive Fibonacci:\n",
      "0 1 1 2 3 5 8 13 21 34 \n"
     ]
    }
   ],
   "source": [
    "def recursive_fibonacci(n):\n",
    "    if n <= 1:\n",
    "        return n\n",
    "    else:\n",
    "        return recursive_fibonacci(n - 1) + recursive_fibonacci(n - 2)\n",
    "\n",
    "def non_recursive_fibonacci(n):\n",
    "    first = 0\n",
    "    second = 1\n",
    "    print(\"Non-recursive Fibonacci:\")\n",
    "    print(first, end=\" \")\n",
    "    print(second, end=\" \")\n",
    "\n",
    "    for _ in range(n - 2):\n",
    "        third = first + second\n",
    "        first = second\n",
    "        second = third\n",
    "        print(third, end=\" \")\n",
    "    print()  # Print a newline after non-recursive Fibonacci numbers\n",
    "\n",
    "if __name__ == \"__main__\":\n",
    "    n = 10\n",
    "\n",
    "    print(\"Recursive Fibonacci:\")\n",
    "    for i in range(n):\n",
    "        print(recursive_fibonacci(i), end=\" \")\n",
    "\n",
    "    non_recursive_fibonacci(n)\n"
   ]
  },
  {
   "cell_type": "code",
   "execution_count": 15,
   "id": "e274e2fc",
   "metadata": {},
   "outputs": [
    {
     "name": "stdout",
     "output_type": "stream",
     "text": [
      "f -> 0\n",
      "c -> 100\n",
      "d -> 101\n",
      "a -> 1100\n",
      "b -> 1101\n",
      "e -> 111\n"
     ]
    }
   ],
   "source": [
    "import heapq\n",
    "\n",
    "class node:\n",
    "    def __init__(self, freq, symbol, left=None, right=None):\n",
    "        self.freq = freq\n",
    "        self.symbol = symbol\n",
    "        self.left = left\n",
    "        self.right = right\n",
    "        self.huff = ''\n",
    "\n",
    "    def __lt__(self, nxt):\n",
    "        return self.freq < nxt.freq\n",
    "\n",
    "# utility function to print huffman codes for all symbols in the newly created Huffman tree\n",
    "def printNodes(node, val=''):\n",
    "    newVal = val + str(node.huff)\n",
    "    if node.left:\n",
    "        printNodes(node.left, newVal)\n",
    "    if node.right:\n",
    "        printNodes(node.right, newVal)\n",
    "    if not node.left and not node.right:\n",
    "        print(f\"{node.symbol} -> {newVal}\")\n",
    "\n",
    "# characters for Huffman tree\n",
    "chars = ['a', 'b', 'c', 'd', 'e', 'f']\n",
    "\n",
    "# frequency of characters\n",
    "freq = [5, 9, 12, 13, 16, 45]\n",
    "\n",
    "# list containing unused nodes\n",
    "nodes = []\n",
    "\n",
    "# converting characters and frequencies into Huffman tree nodes\n",
    "for x in range(len(chars)):\n",
    "    heapq.heappush(nodes, node(freq[x], chars[x]))\n",
    "\n",
    "while len(nodes) > 1:\n",
    "    left = heapq.heappop(nodes)\n",
    "    right = heapq.heappop(nodes)\n",
    "    left.huff = 0\n",
    "    right.huff = 1\n",
    "    newNode = node(left.freq + right.freq, left.symbol + right.symbol, left, right)\n",
    "    heapq.heappush(nodes, newNode)\n",
    "\n",
    "printNodes(nodes[0])\n"
   ]
  },
  {
   "cell_type": "code",
   "execution_count": 17,
   "id": "1e34eb20",
   "metadata": {},
   "outputs": [
    {
     "name": "stdout",
     "output_type": "stream",
     "text": [
      "Maximum value in the knapsack: 240.0\n"
     ]
    }
   ],
   "source": [
    "def fractional_knapsack(items, capacity):\n",
    "    # Calculate the value-to-weight ratio for each item\n",
    "    for item in items:\n",
    "        item['ratio'] = item['value'] / item['weight']\n",
    "    items.sort(key=lambda x: x['ratio'], reverse=True)\n",
    "    \n",
    "    total_value = 0.0\n",
    "    knapsack = []\n",
    "    \n",
    "    for item in items:\n",
    "        if capacity >= item['weight']:\n",
    "            # If the entire item can be added, add it and update capacity\n",
    "            knapsack.append(item)\n",
    "            total_value += item['value']\n",
    "            capacity -= item['weight']\n",
    "        else:\n",
    "            # If only a fraction of the item can be added, add a fraction\n",
    "            fraction = capacity / item['weight']\n",
    "            knapsack.append({'name': item['name'], 'weight': item['weight'] * fraction, 'value': item['value'] * fraction})\n",
    "            total_value += item['value'] * fraction\n",
    "            break\n",
    "    \n",
    "    return knapsack, total_value\n",
    "\n",
    "# Example usage\n",
    "if __name__ == \"__main__\":\n",
    "    items = [\n",
    "        {'name': 'item1', 'weight': 10, 'value': 60},\n",
    "        {'name': 'item2', 'weight': 20, 'value': 100},\n",
    "        {'name': 'item3', 'weight': 30, 'value': 120}\n",
    "    ]\n",
    "    max_capacity = 50\n",
    "    knapsack_items, max_value = fractional_knapsack(items, max_capacity)\n",
    "    print(f\"Maximum value in the knapsack: {max_value}\")\n"
   ]
  },
  {
   "cell_type": "code",
   "execution_count": 19,
   "id": "73f4559b",
   "metadata": {},
   "outputs": [
    {
     "name": "stdout",
     "output_type": "stream",
     "text": [
      "Maximum value in the knapsack: 220\n",
      "Selected items: [1, 2]\n"
     ]
    }
   ],
   "source": [
    "def knapsack_dynamic_programming(values, weights, capacity):\n",
    "    n = len(values)\n",
    "    dp = [[0] * (capacity + 1) for _ in range(n + 1)]\n",
    "\n",
    "    for i in range(n + 1):\n",
    "        for w in range(capacity + 1):\n",
    "            if i == 0 or w == 0:\n",
    "                dp[i][w] = 0\n",
    "            elif weights[i - 1] <= w:\n",
    "                dp[i][w] = max(values[i - 1] + dp[i - 1][w - weights[i - 1]], dp[i - 1][w])\n",
    "            else:\n",
    "                dp[i][w] = dp[i - 1][w]\n",
    "\n",
    "    selected_items = []\n",
    "    i, w = n, capacity\n",
    "\n",
    "    while i > 0 and w > 0:\n",
    "        if dp[i][w] != dp[i - 1][w]:\n",
    "            selected_items.append(i - 1)\n",
    "            w -= weights[i - 1]\n",
    "        i -= 1\n",
    "\n",
    "    selected_items.reverse()\n",
    "\n",
    "    return dp[n][capacity], selected_items\n",
    "\n",
    "# Example usage\n",
    "if __name__ == \"__main__\":\n",
    "    values = [60, 100, 120]\n",
    "    weights = [10, 20, 30]\n",
    "    capacity = 50\n",
    "    max_value, selected_items = knapsack_dynamic_programming(values, weights, capacity)\n",
    "    print(\"Maximum value in the knapsack:\", max_value)\n",
    "    print(\"Selected items:\", selected_items)\n"
   ]
  },
  {
   "cell_type": "code",
   "execution_count": 20,
   "id": "93ffadec",
   "metadata": {},
   "outputs": [
    {
     "ename": "IndentationError",
     "evalue": "expected an indented block after 'for' statement on line 2 (153845203.py, line 3)",
     "output_type": "error",
     "traceback": [
      "\u001b[1;36m  Cell \u001b[1;32mIn[20], line 3\u001b[1;36m\u001b[0m\n\u001b[1;33m    if board[row][i] == 1:\u001b[0m\n\u001b[1;37m    ^\u001b[0m\n\u001b[1;31mIndentationError\u001b[0m\u001b[1;31m:\u001b[0m expected an indented block after 'for' statement on line 2\n"
     ]
    }
   ],
   "source": [
    "def is_safe(board, row, col):\n",
    " for i in range(col):\n",
    " if board[row][i] == 1:\n",
    " return False\n",
    " for i, j in zip(range(row, -1, -1), range(col, -1, -1)):\n",
    " if board[i][j] == 1:\n",
    " return False\n",
    " for i, j in zip(range(row, len(board), 1), range(col, -1, -1)):\n",
    " if board[i][j] == 1:\n",
    " return False\n",
    " return True\n",
    "def solve_n_queens(board, col):\n",
    " if col == len(board):\n",
    " return True\n",
    " for i in range(len(board)):\n",
    " if is_safe(board, i, col):\n",
    " board[i][col] = 1\n",
    " if solve_n_queens(board, col + 1):\n",
    " return True\n",
    " board[i][col] = 0 # Backtrack if placement leads to no\n",
    "solution\n",
    " return False\n",
    "def print_board(board):\n",
    " for row in board:\n",
    " print(\" \".join([\"Q\" if cell == 1 else \"-\" for cell in row]))\n",
    "# Create an 8x8 chessboard with all cells initialized to 0\n",
    "n = 8\n",
    "chessboard = [[0 for _ in range(n)] for _ in range(n)]\n",
    "# Place the first queen in the first row, first column\n",
    "chessboard[0][0] = 1\n",
    "# Try to solve the remaining queens\n",
    "if solve_n_queens(chessboard, 1):\n",
    " print(\"Solution found:\")\n",
    " print_board(chessboard)\n",
    "else:\n",
    " print(\"No solution exists.\")"
   ]
  },
  {
   "cell_type": "code",
   "execution_count": 21,
   "id": "21ef40a0",
   "metadata": {},
   "outputs": [
    {
     "name": "stdout",
     "output_type": "stream",
     "text": [
      "Solution found:\n",
      "Q - - - - - - -\n",
      "- - - - - - Q -\n",
      "- - - - Q - - -\n",
      "- - - - - - - Q\n",
      "- Q - - - - - -\n",
      "- - - Q - - - -\n",
      "- - - - - Q - -\n",
      "- - Q - - - - -\n"
     ]
    }
   ],
   "source": [
    "def is_safe(board, row, col):\n",
    "    for i in range(col):\n",
    "        if board[row][i] == 1:\n",
    "            return False\n",
    "    for i, j in zip(range(row, -1, -1), range(col, -1, -1)):\n",
    "        if board[i][j] == 1:\n",
    "            return False\n",
    "    for i, j in zip(range(row, len(board), 1), range(col, -1, -1)):\n",
    "        if board[i][j] == 1:\n",
    "            return False\n",
    "    return True\n",
    "\n",
    "def solve_n_queens(board, col):\n",
    "    if col == len(board):\n",
    "        return True\n",
    "    for i in range(len(board)):\n",
    "        if is_safe(board, i, col):\n",
    "            board[i][col] = 1\n",
    "            if solve_n_queens(board, col + 1):\n",
    "                return True\n",
    "            board[i][col] = 0  # Backtrack if placement leads to no solution\n",
    "    return False\n",
    "\n",
    "def print_board(board):\n",
    "    for row in board:\n",
    "        print(\" \".join([\"Q\" if cell == 1 else \"-\" for cell in row]))\n",
    "\n",
    "# Create an 8x8 chessboard with all cells initialized to 0\n",
    "n = 8\n",
    "chessboard = [[0 for _ in range(n)] for _ in range(n)]\n",
    "# Place the first queen in the first row, first column\n",
    "chessboard[0][0] = 1\n",
    "# Try to solve the remaining queens\n",
    "if solve_n_queens(chessboard, 1):\n",
    "    print(\"Solution found:\")\n",
    "    print_board(chessboard)\n",
    "else:\n",
    "    print(\"No solution exists.\")\n"
   ]
  },
  {
   "cell_type": "code",
   "execution_count": null,
   "id": "b8dc13a0",
   "metadata": {},
   "outputs": [],
   "source": []
  },
  {
   "cell_type": "code",
   "execution_count": null,
   "id": "5f4d1c88",
   "metadata": {},
   "outputs": [],
   "source": []
  }
 ],
 "metadata": {
  "kernelspec": {
   "display_name": "Python 3 (ipykernel)",
   "language": "python",
   "name": "python3"
  },
  "language_info": {
   "codemirror_mode": {
    "name": "ipython",
    "version": 3
   },
   "file_extension": ".py",
   "mimetype": "text/x-python",
   "name": "python",
   "nbconvert_exporter": "python",
   "pygments_lexer": "ipython3",
   "version": "3.10.9"
  }
 },
 "nbformat": 4,
 "nbformat_minor": 5
}
